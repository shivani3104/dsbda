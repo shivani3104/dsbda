{
 "cells": [
  {
   "cell_type": "code",
   "execution_count": 1,
   "id": "cca6ab20-ac92-40f4-9b47-35099b249507",
   "metadata": {},
   "outputs": [],
   "source": [
    "import pandas as pd\n",
    "import numpy as np\n",
    "import matplotlib.pyplot as plt\n",
    "import seaborn as sns"
   ]
  },
  {
   "cell_type": "code",
   "execution_count": 2,
   "id": "07ea641e-3e1f-4b86-b84e-0b6e5325d996",
   "metadata": {},
   "outputs": [],
   "source": [
    "df=pd.read_csv(\"academic.csv\")"
   ]
  },
  {
   "cell_type": "code",
   "execution_count": 4,
   "id": "b8ac28c5-2c5b-4f7f-95ad-5b19e0d77141",
   "metadata": {},
   "outputs": [
    {
     "name": "stdout",
     "output_type": "stream",
     "text": [
      "The first five row :\n",
      "   gender NationalITy PlaceofBirth     StageID GradeID SectionID Topic  \\\n",
      "0      M          KW       KuwaIT  lowerlevel    G-04         A    IT   \n",
      "1      M          KW       KuwaIT  lowerlevel    G-04         A    IT   \n",
      "2      M          KW       KuwaIT  lowerlevel    G-04         A    IT   \n",
      "3      M          KW       KuwaIT  lowerlevel    G-04         A    IT   \n",
      "4      M          KW       KuwaIT  lowerlevel    G-04         A    IT   \n",
      "\n",
      "  Semester Relation  raisedhands  VisITedResources  AnnouncementsView  \\\n",
      "0        F   Father         15.0                16                  2   \n",
      "1        F   Father          NaN                20                  3   \n",
      "2        F   Father         10.0                 7                  0   \n",
      "3        F   Father         30.0                25                  5   \n",
      "4        F   Father          0.0                50                 12   \n",
      "\n",
      "   Discussion ParentAnsweringSurvey ParentschoolSatisfaction  \\\n",
      "0          20                   Yes                     Good   \n",
      "1          25                   Yes                     Good   \n",
      "2          30                    No                      Bad   \n",
      "3          35                    No                      Bad   \n",
      "4          50                    No                      Bad   \n",
      "\n",
      "  StudentAbsenceDays Class  \n",
      "0            Under-7     M  \n",
      "1            Under-7     M  \n",
      "2            Above-7     L  \n",
      "3            Above-7     L  \n",
      "4            Above-7     M  \n"
     ]
    }
   ],
   "source": [
    "print(\"The first five row :\\n\", df.head())"
   ]
  },
  {
   "cell_type": "code",
   "execution_count": 6,
   "id": "337c3253-7871-4609-bc1b-44f1d34e0945",
   "metadata": {},
   "outputs": [
    {
     "name": "stdout",
     "output_type": "stream",
     "text": [
      "The last five row :\n",
      "     gender NationalITy PlaceofBirth       StageID GradeID SectionID  \\\n",
      "475      F      Jordan       Jordan  MiddleSchool    G-08         A   \n",
      "476      F      Jordan       Jordan  MiddleSchool    G-08         A   \n",
      "477      F      Jordan       Jordan  MiddleSchool    G-08         A   \n",
      "478      F      Jordan       Jordan  MiddleSchool    G-08         A   \n",
      "479      F      Jordan       Jordan  MiddleSchool    G-08         A   \n",
      "\n",
      "         Topic Semester Relation  raisedhands  VisITedResources  \\\n",
      "475  Chemistry        S   Father          5.0                 4   \n",
      "476    Geology        F   Father         50.0                77   \n",
      "477    Geology        S   Father         55.0                74   \n",
      "478    History        F   Father         30.0                17   \n",
      "479    History        S   Father         35.0                14   \n",
      "\n",
      "     AnnouncementsView  Discussion ParentAnsweringSurvey  \\\n",
      "475                  5           8                    No   \n",
      "476                 14          28                    No   \n",
      "477                 25          29                    No   \n",
      "478                 14          57                    No   \n",
      "479                 23          62                    No   \n",
      "\n",
      "    ParentschoolSatisfaction StudentAbsenceDays Class  \n",
      "475                      Bad            Above-7     L  \n",
      "476                      Bad            Under-7     M  \n",
      "477                      Bad            Under-7     M  \n",
      "478                      Bad            Above-7     L  \n",
      "479                      Bad            Above-7     L  \n"
     ]
    }
   ],
   "source": [
    "print(\"The last five row :\\n\", df.tail())"
   ]
  },
  {
   "cell_type": "code",
   "execution_count": 7,
   "id": "897149cd-ab84-449c-8967-41d27e9d7bc9",
   "metadata": {},
   "outputs": [
    {
     "name": "stdout",
     "output_type": "stream",
     "text": [
      "The any five row :\n",
      "     gender NationalITy PlaceofBirth       StageID GradeID SectionID    Topic  \\\n",
      "9        F          KW       KuwaIT  MiddleSchool    G-07         B       IT   \n",
      "188      M          KW       KuwaIT  MiddleSchool    G-08         A   Arabic   \n",
      "238      F          KW       KuwaIT  MiddleSchool    G-07         B  Science   \n",
      "118      F          KW       KuwaIT    lowerlevel    G-02         C       IT   \n",
      "354      M      Jordan       Jordan    lowerlevel    G-02         B   French   \n",
      "\n",
      "    Semester Relation  raisedhands  VisITedResources  AnnouncementsView  \\\n",
      "9          F   Father         70.0                80                 25   \n",
      "188        S      Mum         75.0                71                 72   \n",
      "238        S      Mum         72.0                80                 58   \n",
      "118        F      Mum         24.0                35                 23   \n",
      "354        F      Mum         30.0                98                 42   \n",
      "\n",
      "     Discussion ParentAnsweringSurvey ParentschoolSatisfaction  \\\n",
      "9            70                   Yes                     Good   \n",
      "188          53                   Yes                     Good   \n",
      "238          66                   Yes                     Good   \n",
      "118          22                   Yes                     Good   \n",
      "354          21                   Yes                     Good   \n",
      "\n",
      "    StudentAbsenceDays Class  \n",
      "9              Under-7     M  \n",
      "188            Under-7     H  \n",
      "238            Above-7     M  \n",
      "118            Above-7     M  \n",
      "354            Under-7     H  \n"
     ]
    }
   ],
   "source": [
    "print(\"The any five row :\\n\", df.sample(5))"
   ]
  },
  {
   "cell_type": "code",
   "execution_count": 8,
   "id": "df39460a-7ca0-4944-9ff6-0dc25a16f1e1",
   "metadata": {},
   "outputs": [
    {
     "name": "stdout",
     "output_type": "stream",
     "text": [
      "The information about dataset :\n",
      " <bound method DataFrame.info of     gender NationalITy PlaceofBirth       StageID GradeID SectionID  \\\n",
      "0        M          KW       KuwaIT    lowerlevel    G-04         A   \n",
      "1        M          KW       KuwaIT    lowerlevel    G-04         A   \n",
      "2        M          KW       KuwaIT    lowerlevel    G-04         A   \n",
      "3        M          KW       KuwaIT    lowerlevel    G-04         A   \n",
      "4        M          KW       KuwaIT    lowerlevel    G-04         A   \n",
      "..     ...         ...          ...           ...     ...       ...   \n",
      "475      F      Jordan       Jordan  MiddleSchool    G-08         A   \n",
      "476      F      Jordan       Jordan  MiddleSchool    G-08         A   \n",
      "477      F      Jordan       Jordan  MiddleSchool    G-08         A   \n",
      "478      F      Jordan       Jordan  MiddleSchool    G-08         A   \n",
      "479      F      Jordan       Jordan  MiddleSchool    G-08         A   \n",
      "\n",
      "         Topic Semester Relation  raisedhands  VisITedResources  \\\n",
      "0           IT        F   Father         15.0                16   \n",
      "1           IT        F   Father          NaN                20   \n",
      "2           IT        F   Father         10.0                 7   \n",
      "3           IT        F   Father         30.0                25   \n",
      "4           IT        F   Father          0.0                50   \n",
      "..         ...      ...      ...          ...               ...   \n",
      "475  Chemistry        S   Father          5.0                 4   \n",
      "476    Geology        F   Father         50.0                77   \n",
      "477    Geology        S   Father         55.0                74   \n",
      "478    History        F   Father         30.0                17   \n",
      "479    History        S   Father         35.0                14   \n",
      "\n",
      "     AnnouncementsView  Discussion ParentAnsweringSurvey  \\\n",
      "0                    2          20                   Yes   \n",
      "1                    3          25                   Yes   \n",
      "2                    0          30                    No   \n",
      "3                    5          35                    No   \n",
      "4                   12          50                    No   \n",
      "..                 ...         ...                   ...   \n",
      "475                  5           8                    No   \n",
      "476                 14          28                    No   \n",
      "477                 25          29                    No   \n",
      "478                 14          57                    No   \n",
      "479                 23          62                    No   \n",
      "\n",
      "    ParentschoolSatisfaction StudentAbsenceDays Class  \n",
      "0                       Good            Under-7     M  \n",
      "1                       Good            Under-7     M  \n",
      "2                        Bad            Above-7     L  \n",
      "3                        Bad            Above-7     L  \n",
      "4                        Bad            Above-7     M  \n",
      "..                       ...                ...   ...  \n",
      "475                      Bad            Above-7     L  \n",
      "476                      Bad            Under-7     M  \n",
      "477                      Bad            Under-7     M  \n",
      "478                      Bad            Above-7     L  \n",
      "479                      Bad            Above-7     L  \n",
      "\n",
      "[480 rows x 17 columns]>\n"
     ]
    }
   ],
   "source": [
    "print(\"The information about dataset :\\n\", df.info)"
   ]
  },
  {
   "cell_type": "code",
   "execution_count": 9,
   "id": "b2057504-2ea3-4e4b-978e-182ec3d42555",
   "metadata": {},
   "outputs": [
    {
     "name": "stdout",
     "output_type": "stream",
     "text": [
      "The size of dataset :\n",
      " 8160\n"
     ]
    }
   ],
   "source": [
    "print(\"The size of dataset :\\n\", df.size)"
   ]
  },
  {
   "cell_type": "code",
   "execution_count": 10,
   "id": "67615e06-fd20-488b-9ed3-4b211b8e944a",
   "metadata": {},
   "outputs": [
    {
     "name": "stdout",
     "output_type": "stream",
     "text": [
      "The shape of dataset :\n",
      " (480, 17)\n"
     ]
    }
   ],
   "source": [
    "print(\"The shape of dataset :\\n\", df.shape)"
   ]
  },
  {
   "cell_type": "code",
   "execution_count": 11,
   "id": "bf99c274-6f59-4702-9614-a309937087e7",
   "metadata": {},
   "outputs": [
    {
     "name": "stdout",
     "output_type": "stream",
     "text": [
      "The datatype of dataset :\n",
      " gender                       object\n",
      "NationalITy                  object\n",
      "PlaceofBirth                 object\n",
      "StageID                      object\n",
      "GradeID                      object\n",
      "SectionID                    object\n",
      "Topic                        object\n",
      "Semester                     object\n",
      "Relation                     object\n",
      "raisedhands                 float64\n",
      "VisITedResources              int64\n",
      "AnnouncementsView             int64\n",
      "Discussion                    int64\n",
      "ParentAnsweringSurvey        object\n",
      "ParentschoolSatisfaction     object\n",
      "StudentAbsenceDays           object\n",
      "Class                        object\n",
      "dtype: object\n"
     ]
    }
   ],
   "source": [
    "print(\"The datatype of dataset :\\n\", df.dtypes)"
   ]
  },
  {
   "cell_type": "code",
   "execution_count": 12,
   "id": "7513a0c6-ccdd-4bbb-b53b-548bcf7ddb35",
   "metadata": {},
   "outputs": [
    {
     "name": "stdout",
     "output_type": "stream",
     "text": [
      "The columns of dataset :\n",
      " Index(['gender', 'NationalITy', 'PlaceofBirth', 'StageID', 'GradeID',\n",
      "       'SectionID', 'Topic', 'Semester', 'Relation', 'raisedhands',\n",
      "       'VisITedResources', 'AnnouncementsView', 'Discussion',\n",
      "       'ParentAnsweringSurvey', 'ParentschoolSatisfaction',\n",
      "       'StudentAbsenceDays', 'Class'],\n",
      "      dtype='object')\n"
     ]
    }
   ],
   "source": [
    "print(\"The columns of dataset :\\n\", df.columns)"
   ]
  },
  {
   "cell_type": "code",
   "execution_count": 13,
   "id": "73f7f6f1-5815-4986-a74c-815a7d280953",
   "metadata": {},
   "outputs": [
    {
     "name": "stdout",
     "output_type": "stream",
     "text": [
      "The Stastical knowledge of numerical :\n",
      "        raisedhands  VisITedResources  AnnouncementsView  Discussion\n",
      "count   478.000000        480.000000         480.000000  480.000000\n",
      "mean     46.939331         54.797917          37.918750   43.283333\n",
      "std      31.375699         33.080007          26.611244   27.637735\n",
      "min       0.000000          0.000000           0.000000    1.000000\n",
      "25%      15.000000         20.000000          14.000000   20.000000\n",
      "50%      50.000000         65.000000          33.000000   39.000000\n",
      "75%      75.000000         84.000000          58.000000   70.000000\n",
      "max     170.000000         99.000000          98.000000   99.000000\n"
     ]
    }
   ],
   "source": [
    "print(\"The Stastical knowledge of numerical :\\n\", df.describe())"
   ]
  },
  {
   "cell_type": "code",
   "execution_count": 14,
   "id": "de6e42fd-cfad-449b-9899-da110e99a2e7",
   "metadata": {},
   "outputs": [
    {
     "data": {
      "text/plain": [
       "gender                      2\n",
       "NationalITy                 0\n",
       "PlaceofBirth                0\n",
       "StageID                     0\n",
       "GradeID                     0\n",
       "SectionID                   0\n",
       "Topic                       0\n",
       "Semester                    0\n",
       "Relation                    0\n",
       "raisedhands                 2\n",
       "VisITedResources            0\n",
       "AnnouncementsView           0\n",
       "Discussion                  0\n",
       "ParentAnsweringSurvey       0\n",
       "ParentschoolSatisfaction    0\n",
       "StudentAbsenceDays          0\n",
       "Class                       0\n",
       "dtype: int64"
      ]
     },
     "execution_count": 14,
     "metadata": {},
     "output_type": "execute_result"
    }
   ],
   "source": [
    "df.isnull().sum()"
   ]
  },
  {
   "cell_type": "code",
   "execution_count": 16,
   "id": "1977447f-aca6-494a-a82f-ccca1f7de004",
   "metadata": {},
   "outputs": [],
   "source": [
    "df['gender'].fillna(df['gender'].mode()[0],inplace=True)"
   ]
  },
  {
   "cell_type": "code",
   "execution_count": 17,
   "id": "2c8a042c-5640-4720-a816-d465cafa13e6",
   "metadata": {},
   "outputs": [
    {
     "data": {
      "text/plain": [
       "gender                      0\n",
       "NationalITy                 0\n",
       "PlaceofBirth                0\n",
       "StageID                     0\n",
       "GradeID                     0\n",
       "SectionID                   0\n",
       "Topic                       0\n",
       "Semester                    0\n",
       "Relation                    0\n",
       "raisedhands                 2\n",
       "VisITedResources            0\n",
       "AnnouncementsView           0\n",
       "Discussion                  0\n",
       "ParentAnsweringSurvey       0\n",
       "ParentschoolSatisfaction    0\n",
       "StudentAbsenceDays          0\n",
       "Class                       0\n",
       "dtype: int64"
      ]
     },
     "execution_count": 17,
     "metadata": {},
     "output_type": "execute_result"
    }
   ],
   "source": [
    "9df.isnull().sum()"
   ]
  },
  {
   "cell_type": "code",
   "execution_count": 19,
   "id": "71ae20a5-7f8d-4b2d-a3ad-684964a0c46f",
   "metadata": {},
   "outputs": [],
   "source": [
    "df['gender']=pd.Categorical(df['gender'])\n",
    "df['gender']=df['gender'].cat.codes"
   ]
  },
  {
   "cell_type": "code",
   "execution_count": 20,
   "id": "4f9ad0da-a00c-4296-857c-2f443d1052ee",
   "metadata": {},
   "outputs": [
    {
     "name": "stdout",
     "output_type": "stream",
     "text": [
      "0      1\n",
      "1      1\n",
      "2      1\n",
      "3      1\n",
      "4      1\n",
      "      ..\n",
      "475    0\n",
      "476    0\n",
      "477    0\n",
      "478    0\n",
      "479    0\n",
      "Name: gender, Length: 480, dtype: int8\n"
     ]
    }
   ],
   "source": [
    "print(df['gender'])"
   ]
  },
  {
   "cell_type": "code",
   "execution_count": 23,
   "id": "1e98bf6d-ff6c-45b2-ac76-25bd75fc2c15",
   "metadata": {},
   "outputs": [],
   "source": [
    "df['VisITedResources']=df['VisITedResources'].astype(int)"
   ]
  },
  {
   "cell_type": "code",
   "execution_count": 24,
   "id": "1ae842b0-dbb7-4955-abcd-a022b103abb5",
   "metadata": {},
   "outputs": [
    {
     "name": "stdout",
     "output_type": "stream",
     "text": [
      "gender                         int8\n",
      "NationalITy                  object\n",
      "PlaceofBirth                 object\n",
      "StageID                      object\n",
      "GradeID                      object\n",
      "SectionID                    object\n",
      "Topic                        object\n",
      "Semester                     object\n",
      "Relation                     object\n",
      "raisedhands                 float64\n",
      "VisITedResources              int32\n",
      "AnnouncementsView             int64\n",
      "Discussion                    int64\n",
      "ParentAnsweringSurvey        object\n",
      "ParentschoolSatisfaction     object\n",
      "StudentAbsenceDays           object\n",
      "Class                        object\n",
      "dtype: object\n"
     ]
    }
   ],
   "source": [
    "print(df.dtypes)"
   ]
  },
  {
   "cell_type": "code",
   "execution_count": 25,
   "id": "4b7b64d0-afaf-40d9-9abf-c9188cfb9abb",
   "metadata": {},
   "outputs": [],
   "source": [
    "df['Discussion']=(df['Discussion']-df['Discussion'].min())/(df['Discussion'].max()-df['Discussion'].min())"
   ]
  },
  {
   "cell_type": "code",
   "execution_count": 26,
   "id": "5af2e964-d3d7-491b-9851-72c26372c34e",
   "metadata": {},
   "outputs": [
    {
     "name": "stdout",
     "output_type": "stream",
     "text": [
      "0      0.193878\n",
      "1      0.244898\n",
      "2      0.295918\n",
      "3      0.346939\n",
      "4      0.500000\n",
      "         ...   \n",
      "475    0.071429\n",
      "476    0.275510\n",
      "477    0.285714\n",
      "478    0.571429\n",
      "479    0.622449\n",
      "Name: Discussion, Length: 480, dtype: float64\n"
     ]
    }
   ],
   "source": [
    "print(df['Discussion'])"
   ]
  },
  {
   "cell_type": "code",
   "execution_count": null,
   "id": "71faf1e7-6b5c-48b6-a260-20c4c2d168ef",
   "metadata": {},
   "outputs": [],
   "source": []
  }
 ],
 "metadata": {
  "kernelspec": {
   "display_name": "Python 3 (ipykernel)",
   "language": "python",
   "name": "python3"
  },
  "language_info": {
   "codemirror_mode": {
    "name": "ipython",
    "version": 3
   },
   "file_extension": ".py",
   "mimetype": "text/x-python",
   "name": "python",
   "nbconvert_exporter": "python",
   "pygments_lexer": "ipython3",
   "version": "3.12.1"
  }
 },
 "nbformat": 4,
 "nbformat_minor": 5
}
