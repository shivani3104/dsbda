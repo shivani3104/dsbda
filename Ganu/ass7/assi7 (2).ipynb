{
 "cells": [
  {
   "cell_type": "code",
   "execution_count": 11,
   "id": "3db49398-f479-49ef-b2ef-5f59ca40c499",
   "metadata": {},
   "outputs": [],
   "source": [
    "import pandas as pd\n",
    "import numpy as np\n",
    "import nltk\n",
    "from nltk.tokenize import word_tokenize\n",
    "from nltk.corpus import stopwords, wordnet\n",
    "from nltk.stem import PorterStemmer, WordNetLemmatizer\n",
    "from sklearn.feature_extraction.text import TfidfVectorizer"
   ]
  },
  {
   "cell_type": "code",
   "execution_count": 2,
   "id": "6aedb781-aa80-4a68-8e52-50c0729de051",
   "metadata": {},
   "outputs": [
    {
     "data": {
      "text/html": [
       "<div>\n",
       "<style scoped>\n",
       "    .dataframe tbody tr th:only-of-type {\n",
       "        vertical-align: middle;\n",
       "    }\n",
       "\n",
       "    .dataframe tbody tr th {\n",
       "        vertical-align: top;\n",
       "    }\n",
       "\n",
       "    .dataframe thead th {\n",
       "        text-align: right;\n",
       "    }\n",
       "</style>\n",
       "<table border=\"1\" class=\"dataframe\">\n",
       "  <thead>\n",
       "    <tr style=\"text-align: right;\">\n",
       "      <th></th>\n",
       "      <th>clean_text</th>\n",
       "      <th>category</th>\n",
       "    </tr>\n",
       "  </thead>\n",
       "  <tbody>\n",
       "    <tr>\n",
       "      <th>0</th>\n",
       "      <td>when modi promised “minimum government maximum...</td>\n",
       "      <td>-1.0</td>\n",
       "    </tr>\n",
       "    <tr>\n",
       "      <th>1</th>\n",
       "      <td>talk all the nonsense and continue all the dra...</td>\n",
       "      <td>0.0</td>\n",
       "    </tr>\n",
       "    <tr>\n",
       "      <th>2</th>\n",
       "      <td>what did just say vote for modi  welcome bjp t...</td>\n",
       "      <td>1.0</td>\n",
       "    </tr>\n",
       "    <tr>\n",
       "      <th>3</th>\n",
       "      <td>asking his supporters prefix chowkidar their n...</td>\n",
       "      <td>1.0</td>\n",
       "    </tr>\n",
       "    <tr>\n",
       "      <th>4</th>\n",
       "      <td>answer who among these the most powerful world...</td>\n",
       "      <td>1.0</td>\n",
       "    </tr>\n",
       "  </tbody>\n",
       "</table>\n",
       "</div>"
      ],
      "text/plain": [
       "                                          clean_text  category\n",
       "0  when modi promised “minimum government maximum...      -1.0\n",
       "1  talk all the nonsense and continue all the dra...       0.0\n",
       "2  what did just say vote for modi  welcome bjp t...       1.0\n",
       "3  asking his supporters prefix chowkidar their n...       1.0\n",
       "4  answer who among these the most powerful world...       1.0"
      ]
     },
     "execution_count": 2,
     "metadata": {},
     "output_type": "execute_result"
    }
   ],
   "source": [
    "df = pd.read_csv('Twitter_data.csv')\n",
    "df.head()"
   ]
  },
  {
   "cell_type": "code",
   "execution_count": 3,
   "id": "f53499b9-c00b-43d9-bc9d-1aabce354742",
   "metadata": {},
   "outputs": [
    {
     "name": "stderr",
     "output_type": "stream",
     "text": [
      "[nltk_data] Downloading package punkt to\n",
      "[nltk_data]     C:\\Users\\SAHIL\\AppData\\Roaming\\nltk_data...\n",
      "[nltk_data]   Package punkt is already up-to-date!\n",
      "[nltk_data] Downloading package stopwords to\n",
      "[nltk_data]     C:\\Users\\SAHIL\\AppData\\Roaming\\nltk_data...\n",
      "[nltk_data]   Package stopwords is already up-to-date!\n",
      "[nltk_data] Downloading package averaged_perceptron_tagger to\n",
      "[nltk_data]     C:\\Users\\SAHIL\\AppData\\Roaming\\nltk_data...\n",
      "[nltk_data]   Package averaged_perceptron_tagger is already up-to-\n",
      "[nltk_data]       date!\n",
      "[nltk_data] Downloading package wordnet to\n",
      "[nltk_data]     C:\\Users\\SAHIL\\AppData\\Roaming\\nltk_data...\n",
      "[nltk_data]   Package wordnet is already up-to-date!\n"
     ]
    },
    {
     "data": {
      "text/plain": [
       "True"
      ]
     },
     "execution_count": 3,
     "metadata": {},
     "output_type": "execute_result"
    }
   ],
   "source": [
    "nltk.download('punkt')\n",
    "nltk.download('stopwords')\n",
    "nltk.download('averaged_perceptron_tagger')\n",
    "nltk.download('wordnet')\n"
   ]
  },
  {
   "cell_type": "code",
   "execution_count": 4,
   "id": "e362ab93-f650-4cb2-9ae8-bf088012ed39",
   "metadata": {},
   "outputs": [],
   "source": [
    "df_shortened = df.head(100)"
   ]
  },
  {
   "cell_type": "code",
   "execution_count": 8,
   "id": "b9e42ae0-dc6c-42ff-a180-0a869e415786",
   "metadata": {},
   "outputs": [
    {
     "name": "stdout",
     "output_type": "stream",
     "text": [
      "0     ([when, modi, promised, “, minimum, government...\n",
      "1     ([talk, all, the, nonsense, and, continue, all...\n",
      "2     ([what, did, just, say, vote, for, modi, welco...\n",
      "3     ([asking, his, supporters, prefix, chowkidar, ...\n",
      "4     ([answer, who, among, these, the, most, powerf...\n",
      "                            ...                        \n",
      "95    ([country, prospers, when, the, women, the, co...\n",
      "96    ([sabbash, mera, vote, for, peppermit, abvp], ...\n",
      "97    ([yogi, adityanath, hold, 100, rallies, seek, ...\n",
      "98    ([from, the, very, beginningmodi, doing, wada,...\n",
      "99    ([modi, politics, hate, modiji, loves, india, ...\n",
      "Name: clean_text, Length: 100, dtype: object\n"
     ]
    }
   ],
   "source": [
    "def preprocess_text(text):\n",
    "    tokens = word_tokenize(text)\n",
    "    filtered_tokens = [word for word in tokens if word.lower() not in stopwords.words('english')]\n",
    "    stemmer = PorterStemmer()\n",
    "    stemmed_tokens = [stemmer.stem(word) for word in filtered_tokens]\n",
    "    lemmatizer = WordNetLemmatizer()\n",
    "    lemmatized_tokens = [lemmatizer.lemmatize(word) for word in filtered_tokens]\n",
    "    return tokens, filtered_tokens, stemmed_tokens, lemmatized_tokens\n",
    "\n",
    "# Apply preprocessing function to each row in DataFrame\n",
    "preprocessed_data = df_shortened[\"clean_text\"].apply(preprocess_text)\n",
    "\n",
    "# Display preprocessed data\n",
    "print(preprocessed_data)"
   ]
  },
  {
   "cell_type": "code",
   "execution_count": 9,
   "id": "5bc8ed39-3ded-41f0-8d0a-d9ab66f82131",
   "metadata": {},
   "outputs": [
    {
     "name": "stdout",
     "output_type": "stream",
     "text": [
      "(['when', 'modi', 'promised', '“', 'minimum', 'government', 'maximum', 'governance', '”', 'expected', 'him', 'begin', 'the', 'difficult', 'job', 'reforming', 'the', 'state', 'why', 'does', 'take', 'years', 'get', 'justice', 'state', 'should', 'and', 'not', 'business', 'and', 'should', 'exit', 'psus', 'and', 'temples'], ['modi', 'promised', '“', 'minimum', 'government', 'maximum', 'governance', '”', 'expected', 'begin', 'difficult', 'job', 'reforming', 'state', 'take', 'years', 'get', 'justice', 'state', 'business', 'exit', 'psus', 'temples'], ['modi', 'promis', '“', 'minimum', 'govern', 'maximum', 'govern', '”', 'expect', 'begin', 'difficult', 'job', 'reform', 'state', 'take', 'year', 'get', 'justic', 'state', 'busi', 'exit', 'psu', 'templ'], ['modi', 'promised', '“', 'minimum', 'government', 'maximum', 'governance', '”', 'expected', 'begin', 'difficult', 'job', 'reforming', 'state', 'take', 'year', 'get', 'justice', 'state', 'business', 'exit', 'psus', 'temple'])\n"
     ]
    }
   ],
   "source": [
    "print(preprocessed_data[0])"
   ]
  },
  {
   "cell_type": "code",
   "execution_count": 13,
   "id": "9cb15b64-34e4-478c-8567-f13b1dd57ad5",
   "metadata": {},
   "outputs": [],
   "source": [
    "vectorizer = TfidfVectorizer(max_features=5000)\n",
    "X = vectorizer.fit_transform(df_shortened['clean_text'])"
   ]
  },
  {
   "cell_type": "code",
   "execution_count": 14,
   "id": "e4558f2e-39c6-4ec8-adc5-32dddfb9bfe7",
   "metadata": {},
   "outputs": [
    {
     "name": "stdout",
     "output_type": "stream",
     "text": [
      "  (0, 821)\t0.19627128356761353\n",
      "  (0, 677)\t0.1801027365696738\n",
      "  (0, 261)\t0.1801027365696738\n",
      "  (0, 107)\t0.19627128356761353\n",
      "  (0, 587)\t0.10865356225628482\n",
      "  (0, 37)\t0.24303974579568058\n",
      "  (0, 758)\t0.31946555278393696\n",
      "  (0, 446)\t0.1801027365696738\n",
      "  (0, 321)\t0.1686309699098889\n",
      "  (0, 957)\t0.14099065625216428\n",
      "  (0, 811)\t0.15246242291194917\n",
      "  (0, 213)\t0.15973277639196848\n",
      "  (0, 933)\t0.14099065625216428\n",
      "  (0, 789)\t0.3602054731393476\n",
      "  (0, 695)\t0.19627128356761353\n",
      "  (0, 437)\t0.15973277639196848\n",
      "  (0, 204)\t0.19627128356761353\n",
      "  (0, 830)\t0.14973250463543986\n",
      "  (0, 77)\t0.19627128356761353\n",
      "  (0, 371)\t0.14099065625216428\n",
      "  (0, 263)\t0.19627128356761353\n",
      "  (0, 334)\t0.15973277639196848\n",
      "  (0, 526)\t0.19627128356761353\n",
      "  (0, 335)\t0.15246242291194917\n",
      "  (0, 535)\t0.19627128356761353\n",
      "  :\t:\n",
      "  (99, 355)\t0.14356509181295507\n",
      "  (99, 113)\t0.14356509181295507\n",
      "  (99, 199)\t0.14356509181295507\n",
      "  (99, 240)\t0.14356509181295507\n",
      "  (99, 356)\t0.14356509181295507\n",
      "  (99, 503)\t0.14356509181295507\n",
      "  (99, 545)\t0.5742603672518203\n",
      "  (99, 826)\t0.26347681068160317\n",
      "  (99, 354)\t0.26347681068160317\n",
      "  (99, 824)\t0.13173840534080158\n",
      "  (99, 569)\t0.13173840534080158\n",
      "  (99, 164)\t0.10702425375799082\n",
      "  (99, 306)\t0.2466944754990704\n",
      "  (99, 159)\t0.1233472377495352\n",
      "  (99, 958)\t0.13173840534080158\n",
      "  (99, 597)\t0.11683854250818772\n",
      "  (99, 576)\t0.1115205512773817\n",
      "  (99, 911)\t0.1115205512773817\n",
      "  (99, 647)\t0.13173840534080158\n",
      "  (99, 606)\t0.19938772961045645\n",
      "  (99, 514)\t0.1115205512773817\n",
      "  (99, 381)\t0.13173840534080158\n",
      "  (99, 406)\t0.2292085031440438\n",
      "  (99, 587)\t0.07947601074180834\n",
      "  (99, 543)\t0.03746325921074667\n"
     ]
    }
   ],
   "source": [
    "print(X)"
   ]
  },
  {
   "cell_type": "code",
   "execution_count": null,
   "id": "6ff6baee-59a8-40eb-8db7-d7ceeabde079",
   "metadata": {},
   "outputs": [],
   "source": []
  }
 ],
 "metadata": {
  "kernelspec": {
   "display_name": "Python 3 (ipykernel)",
   "language": "python",
   "name": "python3"
  },
  "language_info": {
   "codemirror_mode": {
    "name": "ipython",
    "version": 3
   },
   "file_extension": ".py",
   "mimetype": "text/x-python",
   "name": "python",
   "nbconvert_exporter": "python",
   "pygments_lexer": "ipython3",
   "version": "3.10.2"
  }
 },
 "nbformat": 4,
 "nbformat_minor": 5
}
