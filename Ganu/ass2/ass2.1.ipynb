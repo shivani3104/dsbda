{
 "cells": [
  {
   "cell_type": "code",
   "execution_count": 1,
   "id": "4367b9ff-cdc6-443b-8dc2-230053c616f5",
   "metadata": {},
   "outputs": [],
   "source": [
    "import numpy as np\n",
    "import pandas as pd\n",
    "import matplotlib.pyplot as plt\n"
   ]
  },
  {
   "cell_type": "code",
   "execution_count": 19,
   "id": "9b5026a2-281d-439b-bdc5-d04232285981",
   "metadata": {},
   "outputs": [],
   "source": [
    "df=pd.read_csv('data.csv')"
   ]
  },
  {
   "cell_type": "code",
   "execution_count": 20,
   "id": "703afc02-f652-4bbc-be0b-25fa457e9155",
   "metadata": {},
   "outputs": [
    {
     "data": {
      "text/html": [
       "<div>\n",
       "<style scoped>\n",
       "    .dataframe tbody tr th:only-of-type {\n",
       "        vertical-align: middle;\n",
       "    }\n",
       "\n",
       "    .dataframe tbody tr th {\n",
       "        vertical-align: top;\n",
       "    }\n",
       "\n",
       "    .dataframe thead th {\n",
       "        text-align: right;\n",
       "    }\n",
       "</style>\n",
       "<table border=\"1\" class=\"dataframe\">\n",
       "  <thead>\n",
       "    <tr style=\"text-align: right;\">\n",
       "      <th></th>\n",
       "      <th>Roll Number</th>\n",
       "      <th>First Name</th>\n",
       "      <th>Last Name</th>\n",
       "      <th>Mobile Number</th>\n",
       "      <th>CGPA1</th>\n",
       "      <th>CGPA2</th>\n",
       "      <th>age</th>\n",
       "    </tr>\n",
       "  </thead>\n",
       "  <tbody>\n",
       "    <tr>\n",
       "      <th>0</th>\n",
       "      <td>261</td>\n",
       "      <td>Rishi</td>\n",
       "      <td>Gupta</td>\n",
       "      <td>919954629666</td>\n",
       "      <td>9.92</td>\n",
       "      <td>5.06</td>\n",
       "      <td>19</td>\n",
       "    </tr>\n",
       "    <tr>\n",
       "      <th>1</th>\n",
       "      <td>827</td>\n",
       "      <td>Seema</td>\n",
       "      <td>Singh</td>\n",
       "      <td>919085484267</td>\n",
       "      <td>0.22</td>\n",
       "      <td>2.83</td>\n",
       "      <td>20</td>\n",
       "    </tr>\n",
       "    <tr>\n",
       "      <th>2</th>\n",
       "      <td>566</td>\n",
       "      <td>Pooja</td>\n",
       "      <td>Rao</td>\n",
       "      <td>919692747629</td>\n",
       "      <td>4.00</td>\n",
       "      <td>5.78</td>\n",
       "      <td>20</td>\n",
       "    </tr>\n",
       "    <tr>\n",
       "      <th>3</th>\n",
       "      <td>431</td>\n",
       "      <td>Vikram</td>\n",
       "      <td>Trivedi</td>\n",
       "      <td>919289900918</td>\n",
       "      <td>3.93</td>\n",
       "      <td>NaN</td>\n",
       "      <td>20</td>\n",
       "    </tr>\n",
       "    <tr>\n",
       "      <th>4</th>\n",
       "      <td>688</td>\n",
       "      <td>Rishi</td>\n",
       "      <td>Nair</td>\n",
       "      <td>918510327681</td>\n",
       "      <td>0.34</td>\n",
       "      <td>3.35</td>\n",
       "      <td>22</td>\n",
       "    </tr>\n",
       "  </tbody>\n",
       "</table>\n",
       "</div>"
      ],
      "text/plain": [
       "   Roll Number First Name Last Name  Mobile Number  CGPA1  CGPA2  age\n",
       "0          261      Rishi     Gupta   919954629666   9.92   5.06   19\n",
       "1          827      Seema     Singh   919085484267   0.22   2.83   20\n",
       "2          566      Pooja       Rao   919692747629   4.00   5.78   20\n",
       "3          431     Vikram   Trivedi   919289900918   3.93    NaN   20\n",
       "4          688      Rishi      Nair   918510327681   0.34   3.35   22"
      ]
     },
     "execution_count": 20,
     "metadata": {},
     "output_type": "execute_result"
    }
   ],
   "source": [
    "df.head()"
   ]
  },
  {
   "cell_type": "code",
   "execution_count": 21,
   "id": "3d5f23a5-2f8c-4c7f-939c-d8661b030a32",
   "metadata": {},
   "outputs": [
    {
     "data": {
      "text/html": [
       "<div>\n",
       "<style scoped>\n",
       "    .dataframe tbody tr th:only-of-type {\n",
       "        vertical-align: middle;\n",
       "    }\n",
       "\n",
       "    .dataframe tbody tr th {\n",
       "        vertical-align: top;\n",
       "    }\n",
       "\n",
       "    .dataframe thead th {\n",
       "        text-align: right;\n",
       "    }\n",
       "</style>\n",
       "<table border=\"1\" class=\"dataframe\">\n",
       "  <thead>\n",
       "    <tr style=\"text-align: right;\">\n",
       "      <th></th>\n",
       "      <th>Roll Number</th>\n",
       "      <th>First Name</th>\n",
       "      <th>Last Name</th>\n",
       "      <th>Mobile Number</th>\n",
       "      <th>CGPA1</th>\n",
       "      <th>CGPA2</th>\n",
       "      <th>age</th>\n",
       "    </tr>\n",
       "  </thead>\n",
       "  <tbody>\n",
       "    <tr>\n",
       "      <th>45</th>\n",
       "      <td>869</td>\n",
       "      <td>Suresh</td>\n",
       "      <td>Bose</td>\n",
       "      <td>918940515383</td>\n",
       "      <td>3.91</td>\n",
       "      <td>6.73</td>\n",
       "      <td>22</td>\n",
       "    </tr>\n",
       "    <tr>\n",
       "      <th>46</th>\n",
       "      <td>113</td>\n",
       "      <td>Manish</td>\n",
       "      <td>Trivedi</td>\n",
       "      <td>917541370185</td>\n",
       "      <td>3.29</td>\n",
       "      <td>1.57</td>\n",
       "      <td>19</td>\n",
       "    </tr>\n",
       "    <tr>\n",
       "      <th>47</th>\n",
       "      <td>414</td>\n",
       "      <td>Rishi</td>\n",
       "      <td>Mehta</td>\n",
       "      <td>919939293191</td>\n",
       "      <td>NaN</td>\n",
       "      <td>9.08</td>\n",
       "      <td>16</td>\n",
       "    </tr>\n",
       "    <tr>\n",
       "      <th>48</th>\n",
       "      <td>656</td>\n",
       "      <td>Karan</td>\n",
       "      <td>Jha</td>\n",
       "      <td>918754597430</td>\n",
       "      <td>6.74</td>\n",
       "      <td>4.01</td>\n",
       "      <td>16</td>\n",
       "    </tr>\n",
       "    <tr>\n",
       "      <th>49</th>\n",
       "      <td>395</td>\n",
       "      <td>Vikram</td>\n",
       "      <td>Sharma</td>\n",
       "      <td>917342735709</td>\n",
       "      <td>4.62</td>\n",
       "      <td>4.02</td>\n",
       "      <td>19</td>\n",
       "    </tr>\n",
       "  </tbody>\n",
       "</table>\n",
       "</div>"
      ],
      "text/plain": [
       "    Roll Number First Name Last Name  Mobile Number  CGPA1  CGPA2  age\n",
       "45          869     Suresh      Bose   918940515383   3.91   6.73   22\n",
       "46          113     Manish   Trivedi   917541370185   3.29   1.57   19\n",
       "47          414      Rishi     Mehta   919939293191    NaN   9.08   16\n",
       "48          656      Karan       Jha   918754597430   6.74   4.01   16\n",
       "49          395     Vikram    Sharma   917342735709   4.62   4.02   19"
      ]
     },
     "execution_count": 21,
     "metadata": {},
     "output_type": "execute_result"
    }
   ],
   "source": [
    "df.tail()"
   ]
  },
  {
   "cell_type": "code",
   "execution_count": 22,
   "id": "70f63868-e87b-4834-a7e8-87bc163ee613",
   "metadata": {},
   "outputs": [
    {
     "data": {
      "text/html": [
       "<div>\n",
       "<style scoped>\n",
       "    .dataframe tbody tr th:only-of-type {\n",
       "        vertical-align: middle;\n",
       "    }\n",
       "\n",
       "    .dataframe tbody tr th {\n",
       "        vertical-align: top;\n",
       "    }\n",
       "\n",
       "    .dataframe thead th {\n",
       "        text-align: right;\n",
       "    }\n",
       "</style>\n",
       "<table border=\"1\" class=\"dataframe\">\n",
       "  <thead>\n",
       "    <tr style=\"text-align: right;\">\n",
       "      <th></th>\n",
       "      <th>Roll Number</th>\n",
       "      <th>First Name</th>\n",
       "      <th>Last Name</th>\n",
       "      <th>Mobile Number</th>\n",
       "      <th>CGPA1</th>\n",
       "      <th>CGPA2</th>\n",
       "      <th>age</th>\n",
       "    </tr>\n",
       "  </thead>\n",
       "  <tbody>\n",
       "    <tr>\n",
       "      <th>41</th>\n",
       "      <td>281</td>\n",
       "      <td>Pooja</td>\n",
       "      <td>Mittal</td>\n",
       "      <td>917222526570</td>\n",
       "      <td>9.22</td>\n",
       "      <td>5.90</td>\n",
       "      <td>19</td>\n",
       "    </tr>\n",
       "    <tr>\n",
       "      <th>19</th>\n",
       "      <td>699</td>\n",
       "      <td>Vikram</td>\n",
       "      <td>Mittal</td>\n",
       "      <td>918450381983</td>\n",
       "      <td>5.20</td>\n",
       "      <td>2.63</td>\n",
       "      <td>24</td>\n",
       "    </tr>\n",
       "    <tr>\n",
       "      <th>46</th>\n",
       "      <td>113</td>\n",
       "      <td>Manish</td>\n",
       "      <td>Trivedi</td>\n",
       "      <td>917541370185</td>\n",
       "      <td>3.29</td>\n",
       "      <td>1.57</td>\n",
       "      <td>19</td>\n",
       "    </tr>\n",
       "    <tr>\n",
       "      <th>12</th>\n",
       "      <td>501</td>\n",
       "      <td>Anika</td>\n",
       "      <td>Agarwal</td>\n",
       "      <td>918906573611</td>\n",
       "      <td>1.66</td>\n",
       "      <td>6.82</td>\n",
       "      <td>19</td>\n",
       "    </tr>\n",
       "    <tr>\n",
       "      <th>24</th>\n",
       "      <td>627</td>\n",
       "      <td>Vaishnavi</td>\n",
       "      <td>Kumar</td>\n",
       "      <td>919077709031</td>\n",
       "      <td>0.14</td>\n",
       "      <td>NaN</td>\n",
       "      <td>22</td>\n",
       "    </tr>\n",
       "  </tbody>\n",
       "</table>\n",
       "</div>"
      ],
      "text/plain": [
       "    Roll Number First Name Last Name  Mobile Number  CGPA1  CGPA2  age\n",
       "41          281      Pooja    Mittal   917222526570   9.22   5.90   19\n",
       "19          699     Vikram    Mittal   918450381983   5.20   2.63   24\n",
       "46          113     Manish   Trivedi   917541370185   3.29   1.57   19\n",
       "12          501      Anika   Agarwal   918906573611   1.66   6.82   19\n",
       "24          627  Vaishnavi     Kumar   919077709031   0.14    NaN   22"
      ]
     },
     "execution_count": 22,
     "metadata": {},
     "output_type": "execute_result"
    }
   ],
   "source": [
    "df.sample(5)"
   ]
  },
  {
   "cell_type": "code",
   "execution_count": 23,
   "id": "a142f3f7-d789-4696-b035-cc85e99896f6",
   "metadata": {},
   "outputs": [
    {
     "data": {
      "text/plain": [
       "(50, 7)"
      ]
     },
     "execution_count": 23,
     "metadata": {},
     "output_type": "execute_result"
    }
   ],
   "source": [
    "df.shape"
   ]
  },
  {
   "cell_type": "code",
   "execution_count": 25,
   "id": "f7755c7c-86f2-461d-a9bc-a48f98a39136",
   "metadata": {},
   "outputs": [
    {
     "data": {
      "text/plain": [
       "350"
      ]
     },
     "execution_count": 25,
     "metadata": {},
     "output_type": "execute_result"
    }
   ],
   "source": [
    "df.size"
   ]
  },
  {
   "cell_type": "code",
   "execution_count": 26,
   "id": "00be4170-301f-4f3f-8c98-6e349d058526",
   "metadata": {},
   "outputs": [
    {
     "data": {
      "text/plain": [
       "Index(['Roll Number', 'First Name', 'Last Name', 'Mobile Number', 'CGPA1',\n",
       "       'CGPA2', 'age'],\n",
       "      dtype='object')"
      ]
     },
     "execution_count": 26,
     "metadata": {},
     "output_type": "execute_result"
    }
   ],
   "source": [
    "df.columns"
   ]
  },
  {
   "cell_type": "code",
   "execution_count": 27,
   "id": "58dad6a3-076d-4fe0-bef5-78da215f3ba7",
   "metadata": {},
   "outputs": [
    {
     "data": {
      "text/plain": [
       "Roll Number        int64\n",
       "First Name        object\n",
       "Last Name         object\n",
       "Mobile Number      int64\n",
       "CGPA1            float64\n",
       "CGPA2            float64\n",
       "age                int64\n",
       "dtype: object"
      ]
     },
     "execution_count": 27,
     "metadata": {},
     "output_type": "execute_result"
    }
   ],
   "source": [
    "df.dtypes"
   ]
  },
  {
   "cell_type": "code",
   "execution_count": 28,
   "id": "da9eed07-8aa3-4eb5-bb60-8b20b7c653b8",
   "metadata": {},
   "outputs": [
    {
     "data": {
      "text/plain": [
       "<bound method DataFrame.info of     Roll Number First Name Last Name  Mobile Number  CGPA1  CGPA2  age\n",
       "0           261      Rishi     Gupta   919954629666   9.92   5.06   19\n",
       "1           827      Seema     Singh   919085484267   0.22   2.83   20\n",
       "2           566      Pooja       Rao   919692747629   4.00   5.78   20\n",
       "3           431     Vikram   Trivedi   919289900918   3.93    NaN   20\n",
       "4           688      Rishi      Nair   918510327681   0.34   3.35   22\n",
       "5           401      Pooja      Bose   918752969300   8.74   7.23   19\n",
       "6           532  Vaishnavi       Jha   919009969408   5.63   4.38    2\n",
       "7           774  Vaishnavi     Verma   917407265215   8.35   2.51   23\n",
       "8           942     Nikita     Mehta   917631350107   0.66   0.50   18\n",
       "9           660      Divya      Devi   919595059601    NaN   9.66   24\n",
       "10           32  Vaishnavi    Pandey   918922269173   4.02   4.08   17\n",
       "11          300      Seema   Agarwal   919811084246   3.35   9.33   16\n",
       "12          501      Anika   Agarwal   918906573611   1.66   6.82   19\n",
       "13          513     Nikita      Nair   919628988312   8.08   1.37   22\n",
       "14          547     Manish      Nair   917847308029   8.96   9.06   23\n",
       "15           31      Karan      Devi   917284199576   9.11   3.61   21\n",
       "16           15     Aakash      Bose   918752637853   7.80   1.51   16\n",
       "17          588      Rohan     Verma   918584791801   1.37   1.19   25\n",
       "18          574       Amit       Rao   918152968828    NaN   3.13   16\n",
       "19          699     Vikram    Mittal   918450381983   5.20   2.63   24\n",
       "20          189       Amit     Singh   919678637430   9.29   3.88   19\n",
       "21          613       Amit    Sharma   917090460044   7.90   3.72   18\n",
       "22          156      Arjun     Yadav   917811478267   0.68   4.00   18\n",
       "23          443      Rishi   Chauhan   918050279598   3.87   1.82   23\n",
       "24          627  Vaishnavi     Kumar   919077709031   0.14    NaN   22\n",
       "25          733     Vikram     Patel   919681159004   1.53   9.72   23\n",
       "26          139      Rohan      Bose   917706572107   8.42   8.84   20\n",
       "27          722  Vaishnavi     Patel   917550452611   9.49   3.29  180\n",
       "28          639      Rohan     Yadav   917434424864   8.11   4.33   24\n",
       "29          581       Amit      Devi   919852460979   4.73   7.34   16\n",
       "30          284      Divya      Devi   917244384079    NaN   6.83   23\n",
       "31          994     Suresh      Bose   917021150581   0.00   4.69   24\n",
       "32          317      Pooja      Devi   919100666421   4.75   1.62   23\n",
       "33          600      Arjun    Sharma   917579409278   8.13   1.70   18\n",
       "34          715      Rohan    Mittal   919674363333   2.56   6.43   16\n",
       "35          785  Vaishnavi     Patel   917845760858   5.53   0.28   18\n",
       "36          320   Priyanka   Chauhan   918681058244   9.12   9.18   16\n",
       "37          655  Vaishnavi    Mittal   918596866416   5.11   0.25   22\n",
       "38          859      Anika   Trivedi   918635243475   2.92   3.36   22\n",
       "39          523     Manish     Gupta   917095946515   3.85   4.33   19\n",
       "40          279     Vikram     Singh   917785554887   5.74   5.75   23\n",
       "41          281      Pooja    Mittal   917222526570   9.22   5.90   19\n",
       "42           94      Pooja       Das   918405734546    NaN   4.74   22\n",
       "43          474       Amit       Rao   919406425425   5.86    NaN   16\n",
       "44          271      Rahul      Bose   919395711602   2.31   4.11   17\n",
       "45          869     Suresh      Bose   918940515383   3.91   6.73   22\n",
       "46          113     Manish   Trivedi   917541370185   3.29   1.57   19\n",
       "47          414      Rishi     Mehta   919939293191    NaN   9.08   16\n",
       "48          656      Karan       Jha   918754597430   6.74   4.01   16\n",
       "49          395     Vikram    Sharma   917342735709   4.62   4.02   19>"
      ]
     },
     "execution_count": 28,
     "metadata": {},
     "output_type": "execute_result"
    }
   ],
   "source": [
    "df.info"
   ]
  },
  {
   "cell_type": "code",
   "execution_count": 29,
   "id": "466f8359-620e-4170-8658-0cd1c47332ff",
   "metadata": {},
   "outputs": [
    {
     "data": {
      "text/html": [
       "<div>\n",
       "<style scoped>\n",
       "    .dataframe tbody tr th:only-of-type {\n",
       "        vertical-align: middle;\n",
       "    }\n",
       "\n",
       "    .dataframe tbody tr th {\n",
       "        vertical-align: top;\n",
       "    }\n",
       "\n",
       "    .dataframe thead th {\n",
       "        text-align: right;\n",
       "    }\n",
       "</style>\n",
       "<table border=\"1\" class=\"dataframe\">\n",
       "  <thead>\n",
       "    <tr style=\"text-align: right;\">\n",
       "      <th></th>\n",
       "      <th>Roll Number</th>\n",
       "      <th>Mobile Number</th>\n",
       "      <th>CGPA1</th>\n",
       "      <th>CGPA2</th>\n",
       "      <th>age</th>\n",
       "    </tr>\n",
       "  </thead>\n",
       "  <tbody>\n",
       "    <tr>\n",
       "      <th>count</th>\n",
       "      <td>50.000000</td>\n",
       "      <td>5.000000e+01</td>\n",
       "      <td>45.000000</td>\n",
       "      <td>47.000000</td>\n",
       "      <td>50.000000</td>\n",
       "    </tr>\n",
       "    <tr>\n",
       "      <th>mean</th>\n",
       "      <td>492.440000</td>\n",
       "      <td>9.185083e+11</td>\n",
       "      <td>5.092444</td>\n",
       "      <td>4.586170</td>\n",
       "      <td>22.780000</td>\n",
       "    </tr>\n",
       "    <tr>\n",
       "      <th>std</th>\n",
       "      <td>250.705792</td>\n",
       "      <td>9.131771e+08</td>\n",
       "      <td>3.068496</td>\n",
       "      <td>2.688698</td>\n",
       "      <td>22.994489</td>\n",
       "    </tr>\n",
       "    <tr>\n",
       "      <th>min</th>\n",
       "      <td>15.000000</td>\n",
       "      <td>9.170212e+11</td>\n",
       "      <td>0.000000</td>\n",
       "      <td>0.250000</td>\n",
       "      <td>2.000000</td>\n",
       "    </tr>\n",
       "    <tr>\n",
       "      <th>25%</th>\n",
       "      <td>288.000000</td>\n",
       "      <td>9.176502e+11</td>\n",
       "      <td>2.920000</td>\n",
       "      <td>2.730000</td>\n",
       "      <td>18.000000</td>\n",
       "    </tr>\n",
       "    <tr>\n",
       "      <th>50%</th>\n",
       "      <td>527.500000</td>\n",
       "      <td>9.186161e+11</td>\n",
       "      <td>4.750000</td>\n",
       "      <td>4.080000</td>\n",
       "      <td>19.500000</td>\n",
       "    </tr>\n",
       "    <tr>\n",
       "      <th>75%</th>\n",
       "      <td>659.000000</td>\n",
       "      <td>9.192426e+11</td>\n",
       "      <td>8.110000</td>\n",
       "      <td>6.580000</td>\n",
       "      <td>22.750000</td>\n",
       "    </tr>\n",
       "    <tr>\n",
       "      <th>max</th>\n",
       "      <td>994.000000</td>\n",
       "      <td>9.199546e+11</td>\n",
       "      <td>9.920000</td>\n",
       "      <td>9.720000</td>\n",
       "      <td>180.000000</td>\n",
       "    </tr>\n",
       "  </tbody>\n",
       "</table>\n",
       "</div>"
      ],
      "text/plain": [
       "       Roll Number  Mobile Number      CGPA1      CGPA2         age\n",
       "count    50.000000   5.000000e+01  45.000000  47.000000   50.000000\n",
       "mean    492.440000   9.185083e+11   5.092444   4.586170   22.780000\n",
       "std     250.705792   9.131771e+08   3.068496   2.688698   22.994489\n",
       "min      15.000000   9.170212e+11   0.000000   0.250000    2.000000\n",
       "25%     288.000000   9.176502e+11   2.920000   2.730000   18.000000\n",
       "50%     527.500000   9.186161e+11   4.750000   4.080000   19.500000\n",
       "75%     659.000000   9.192426e+11   8.110000   6.580000   22.750000\n",
       "max     994.000000   9.199546e+11   9.920000   9.720000  180.000000"
      ]
     },
     "execution_count": 29,
     "metadata": {},
     "output_type": "execute_result"
    }
   ],
   "source": [
    "df.describe()"
   ]
  },
  {
   "cell_type": "code",
   "execution_count": 30,
   "id": "11bbd822-af24-4cc8-8365-036e94ce0684",
   "metadata": {},
   "outputs": [
    {
     "data": {
      "text/plain": [
       "Roll Number      0\n",
       "First Name       0\n",
       "Last Name        0\n",
       "Mobile Number    0\n",
       "CGPA1            5\n",
       "CGPA2            3\n",
       "age              0\n",
       "dtype: int64"
      ]
     },
     "execution_count": 30,
     "metadata": {},
     "output_type": "execute_result"
    }
   ],
   "source": [
    "df.isnull().sum()"
   ]
  },
  {
   "cell_type": "code",
   "execution_count": 32,
   "id": "cfdd4005-3a89-4183-bb5e-f84bd9cb3592",
   "metadata": {},
   "outputs": [],
   "source": [
    "df['CGPA1'].fillna(df['CGPA1'].mean(),inplace=True)\n"
   ]
  },
  {
   "cell_type": "code",
   "execution_count": 34,
   "id": "d0dc8500-159a-4a23-9711-b1d9b38d8bb4",
   "metadata": {},
   "outputs": [
    {
     "data": {
      "text/plain": [
       "Roll Number      0\n",
       "First Name       0\n",
       "Last Name        0\n",
       "Mobile Number    0\n",
       "CGPA1            0\n",
       "CGPA2            3\n",
       "age              0\n",
       "dtype: int64"
      ]
     },
     "execution_count": 34,
     "metadata": {},
     "output_type": "execute_result"
    }
   ],
   "source": [
    "df.isnull().sum()"
   ]
  },
  {
   "cell_type": "code",
   "execution_count": 35,
   "id": "526a41f9-5bf0-43a3-b799-673ed9d543a0",
   "metadata": {},
   "outputs": [],
   "source": [
    "df['CGPA2'].fillna(df['CGPA2'].mean(),inplace=True)\n"
   ]
  },
  {
   "cell_type": "code",
   "execution_count": 36,
   "id": "bf2bc31a-c3a0-4557-91f0-a6c591331be0",
   "metadata": {},
   "outputs": [
    {
     "data": {
      "text/plain": [
       "Roll Number      0\n",
       "First Name       0\n",
       "Last Name        0\n",
       "Mobile Number    0\n",
       "CGPA1            0\n",
       "CGPA2            0\n",
       "age              0\n",
       "dtype: int64"
      ]
     },
     "execution_count": 36,
     "metadata": {},
     "output_type": "execute_result"
    }
   ],
   "source": [
    "df.isnull().sum()"
   ]
  },
  {
   "cell_type": "code",
   "execution_count": 39,
   "id": "e8578a62-9b02-461c-9124-482166bb7089",
   "metadata": {},
   "outputs": [
    {
     "data": {
      "text/plain": [
       "<Axes: ylabel='age'>"
      ]
     },
     "execution_count": 39,
     "metadata": {},
     "output_type": "execute_result"
    },
    {
     "data": {
      "image/png": "[encoded data removed]",
      "text/plain": [
       "<Figure size 640x480 with 1 Axes>"
      ]
     },
     "metadata": {},
     "output_type": "display_data"
    }
   ],
   "source": [
    "import seaborn as sns\n",
    "sns.boxplot(y='age',data=df)"
   ]
  },
  {
   "cell_type": "code",
   "execution_count": 41,
   "id": "005c7db3-5560-476f-bb29-f61bedf501a9",
   "metadata": {},
   "outputs": [
    {
     "name": "stdout",
     "output_type": "stream",
     "text": [
      "18.0\n",
      "22.75\n",
      "4.75\n"
     ]
    }
   ],
   "source": [
    "Q1 = df['age'].quantile(0.25)\n",
    "Q3 = df['age'].quantile(0.75)\n",
    "\n",
    "IQR=Q3-Q1\n",
    "\n",
    "print(Q1)\n",
    "print(Q3)\n",
    "print(IQR)"
   ]
  },
  {
   "cell_type": "code",
   "execution_count": 43,
   "id": "bd1eb3bb-54cd-4444-b676-06bfbb00611e",
   "metadata": {},
   "outputs": [
    {
     "name": "stdout",
     "output_type": "stream",
     "text": [
      "    Roll Number First Name Last Name  Mobile Number  CGPA1  CGPA2  age\n",
      "6           532  Vaishnavi       Jha   919009969408   5.63   4.38    2\n",
      "27          722  Vaishnavi     Patel   917550452611   9.49   3.29  180\n"
     ]
    }
   ],
   "source": [
    "outlier=df[(df['age']<(Q1-1.5*IQR))|(df['age']>(Q3+1.5*IQR))]\n",
    "print(outlier)"
   ]
  },
  {
   "cell_type": "code",
   "execution_count": 45,
   "id": "c242d444-b9f1-4b81-941b-23d93ab39a33",
   "metadata": {},
   "outputs": [],
   "source": [
    "df['age']=df['age'].mask(df['age']> Q3+1.5*IQR,df['age'].mode()[0])\n",
    "df['age']=df['age'].mask(df['age']< Q1-1.5*IQR,df['age'].mode()[0])"
   ]
  },
  {
   "cell_type": "code",
   "execution_count": 46,
   "id": "f087b68c-55ed-4775-b34a-634299dca786",
   "metadata": {},
   "outputs": [
    {
     "data": {
      "text/plain": [
       "<Axes: ylabel='age'>"
      ]
     },
     "execution_count": 46,
     "metadata": {},
     "output_type": "execute_result"
    },
    {
     "data": {
      "image/png": "[encoded data removed]",
      "text/plain": [
       "<Figure size 640x480 with 1 Axes>"
      ]
     },
     "metadata": {},
     "output_type": "display_data"
    }
   ],
   "source": [
    "sns.boxplot(y='age',data=df)"
   ]
  },
  {
   "cell_type": "code",
   "execution_count": 48,
   "id": "5ef2a52b-4710-4c0f-9437-9717345c77d1",
   "metadata": {},
   "outputs": [],
   "source": [
    "from sklearn.preprocessing import PowerTransformer\n"
   ]
  },
  {
   "cell_type": "code",
   "execution_count": 49,
   "id": "79d9e850-ee6c-4d02-bb3c-7057a5b08d28",
   "metadata": {},
   "outputs": [],
   "source": [
    "var=PowerTransformer()"
   ]
  },
  {
   "cell_type": "code",
   "execution_count": 51,
   "id": "c56fe934-5a41-4468-922f-569ca1d8c8e8",
   "metadata": {},
   "outputs": [],
   "source": [
    "df['age']=var.fit_transform(df['age'].values.reshape(-1,1))"
   ]
  },
  {
   "cell_type": "code",
   "execution_count": null,
   "id": "03817ff9-d4f5-4ff9-8c1f-b62d7802f08b",
   "metadata": {},
   "outputs": [],
   "source": []
  }
 ],
 "metadata": {
  "kernelspec": {
   "display_name": "Python 3 (ipykernel)",
   "language": "python",
   "name": "python3"
  },
  "language_info": {
   "codemirror_mode": {
    "name": "ipython",
    "version": 3
   },
   "file_extension": ".py",
   "mimetype": "text/x-python",
   "name": "python",
   "nbconvert_exporter": "python",
   "pygments_lexer": "ipython3",
   "version": "3.12.1"
  }
 },
 "nbformat": 4,
 "nbformat_minor": 5
}
