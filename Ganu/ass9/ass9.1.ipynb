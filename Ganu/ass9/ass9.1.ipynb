{
 "cells": [
  {
   "cell_type": "code",
   "execution_count": 2,
   "id": "3f1af269-6fab-42b7-ab46-b2c98d190e69",
   "metadata": {},
   "outputs": [],
   "source": [
    "import pandas as pd\n",
    "import numpy as np\n",
    "import matplotlib.pyplot as plt\n",
    "import seaborn as sns"
   ]
  },
  {
   "cell_type": "code",
   "execution_count": 3,
   "id": "1dbb0ab0-25ae-4c74-9a68-9a94cc6161cb",
   "metadata": {},
   "outputs": [],
   "source": [
    "df=pd.read_csv(\"titanic.csv\")"
   ]
  },
  {
   "cell_type": "code",
   "execution_count": 4,
   "id": "9b1bdb61-4014-4791-88f9-65398526978b",
   "metadata": {},
   "outputs": [
    {
     "name": "stdout",
     "output_type": "stream",
     "text": [
      "The first five row :\n",
      "    PassengerId  Survived  Pclass      Lname  \\\n",
      "0            1         0       3     Braund   \n",
      "1            2         1       1    Cumings   \n",
      "2            3         1       3  Heikkinen   \n",
      "3            4         1       1   Futrelle   \n",
      "4            5         0       3      Allen   \n",
      "\n",
      "                                          Name     Sex   Age  SibSp  Parch  \\\n",
      "0                              Mr. Owen Harris    male  22.0      1      0   \n",
      "1   Mrs. John Bradley (Florence Briggs Thayer)  female  38.0      1      0   \n",
      "2                                  Miss. Laina  female  26.0      0      0   \n",
      "3           Mrs. Jacques Heath (Lily May Peel)  female  35.0      1      0   \n",
      "4                            Mr. William Henry    male  35.0      0      0   \n",
      "\n",
      "             Ticket     Fare Cabin Embarked  \n",
      "0         A/5 21171   7.2500   NaN        S  \n",
      "1          PC 17599  71.2833   C85        C  \n",
      "2  STON/O2. 3101282   7.9250   NaN        S  \n",
      "3            113803  53.1000  C123        S  \n",
      "4            373450   8.0500   NaN        S  \n"
     ]
    }
   ],
   "source": [
    "print(\"The first five row :\\n\", df.head())"
   ]
  },
  {
   "cell_type": "code",
   "execution_count": 5,
   "id": "4dea35bb-3639-4c73-89c7-2a7abe70920f",
   "metadata": {},
   "outputs": [
    {
     "name": "stdout",
     "output_type": "stream",
     "text": [
      "The last five row :\n",
      "      PassengerId  Survived  Pclass         Lname                         Name  \\\n",
      "151          152         1       1         Pears   Mrs. Thomas (Edith Wearne)   \n",
      "152          153         0       3           Meo                  Mr. Alfonzo   \n",
      "153          154         0       3  van Billiard            Mr. Austin Blyler   \n",
      "154          155         0       3         Olsen               Mr. Ole Martin   \n",
      "155          156         0       1      Williams            Mr. Charles Duane   \n",
      "\n",
      "        Sex   Age  SibSp  Parch      Ticket     Fare Cabin Embarked  \n",
      "151  female  22.0      1      0      113776  66.6000    C2        S  \n",
      "152    male  55.5      0      0  A.5. 11206   8.0500   NaN        S  \n",
      "153    male  40.5      0      2    A/5. 851  14.5000   NaN        S  \n",
      "154    male   NaN      0      0   Fa 265302   7.3125   NaN        S  \n",
      "155    male  51.0      0      1    PC 17597  61.3792   NaN        C  \n"
     ]
    }
   ],
   "source": [
    "print(\"The last five row :\\n\", df.tail())"
   ]
  },
  {
   "cell_type": "code",
   "execution_count": 6,
   "id": "d088813d-2685-4349-9b14-dd9be921ced8",
   "metadata": {},
   "outputs": [
    {
     "name": "stdout",
     "output_type": "stream",
     "text": [
      "The any five row :\n",
      "      PassengerId  Survived  Pclass      Lname  \\\n",
      "151          152         1       1      Pears   \n",
      "21            22         1       2    Beesley   \n",
      "87            88         0       3  Slocovski   \n",
      "40            41         0       3      Ahlin   \n",
      "35            36         0       1  Holverson   \n",
      "\n",
      "                                         Name     Sex   Age  SibSp  Parch  \\\n",
      "151                Mrs. Thomas (Edith Wearne)  female  22.0      1      0   \n",
      "21                               Mr. Lawrence    male  34.0      0      0   \n",
      "87                         Mr. Selman Francis    male   NaN      0      0   \n",
      "40    Mrs. Johan (Johanna Persdotter Larsson)  female  40.0      1      0   \n",
      "35                        Mr. Alexander Oskar    male  42.0      1      0   \n",
      "\n",
      "              Ticket    Fare Cabin Embarked  \n",
      "151           113776  66.600    C2        S  \n",
      "21            248698  13.000   D56        S  \n",
      "87   SOTON/OQ 392086   8.050   NaN        S  \n",
      "40              7546   9.475   NaN        S  \n",
      "35            113789  52.000   NaN        S  \n"
     ]
    }
   ],
   "source": [
    "print(\"The any five row :\\n\", df.sample(5))"
   ]
  },
  {
   "cell_type": "code",
   "execution_count": 7,
   "id": "a28ff72e-8634-44bd-9b23-d7e92deb5966",
   "metadata": {},
   "outputs": [
    {
     "name": "stdout",
     "output_type": "stream",
     "text": [
      "The information about dataset :\n",
      " <bound method DataFrame.info of      PassengerId  Survived  Pclass         Lname  \\\n",
      "0              1         0       3        Braund   \n",
      "1              2         1       1       Cumings   \n",
      "2              3         1       3     Heikkinen   \n",
      "3              4         1       1      Futrelle   \n",
      "4              5         0       3         Allen   \n",
      "..           ...       ...     ...           ...   \n",
      "151          152         1       1         Pears   \n",
      "152          153         0       3           Meo   \n",
      "153          154         0       3  van Billiard   \n",
      "154          155         0       3         Olsen   \n",
      "155          156         0       1      Williams   \n",
      "\n",
      "                                            Name     Sex   Age  SibSp  Parch  \\\n",
      "0                                Mr. Owen Harris    male  22.0      1      0   \n",
      "1     Mrs. John Bradley (Florence Briggs Thayer)  female  38.0      1      0   \n",
      "2                                    Miss. Laina  female  26.0      0      0   \n",
      "3             Mrs. Jacques Heath (Lily May Peel)  female  35.0      1      0   \n",
      "4                              Mr. William Henry    male  35.0      0      0   \n",
      "..                                           ...     ...   ...    ...    ...   \n",
      "151                   Mrs. Thomas (Edith Wearne)  female  22.0      1      0   \n",
      "152                                  Mr. Alfonzo    male  55.5      0      0   \n",
      "153                            Mr. Austin Blyler    male  40.5      0      2   \n",
      "154                               Mr. Ole Martin    male   NaN      0      0   \n",
      "155                            Mr. Charles Duane    male  51.0      0      1   \n",
      "\n",
      "               Ticket     Fare Cabin Embarked  \n",
      "0           A/5 21171   7.2500   NaN        S  \n",
      "1            PC 17599  71.2833   C85        C  \n",
      "2    STON/O2. 3101282   7.9250   NaN        S  \n",
      "3              113803  53.1000  C123        S  \n",
      "4              373450   8.0500   NaN        S  \n",
      "..                ...      ...   ...      ...  \n",
      "151            113776  66.6000    C2        S  \n",
      "152        A.5. 11206   8.0500   NaN        S  \n",
      "153          A/5. 851  14.5000   NaN        S  \n",
      "154         Fa 265302   7.3125   NaN        S  \n",
      "155          PC 17597  61.3792   NaN        C  \n",
      "\n",
      "[156 rows x 13 columns]>\n"
     ]
    }
   ],
   "source": [
    "print(\"The information about dataset :\\n\", df.info)"
   ]
  },
  {
   "cell_type": "code",
   "execution_count": 8,
   "id": "036821e2-307d-4659-9587-0fa8e6bd6fc0",
   "metadata": {},
   "outputs": [
    {
     "name": "stdout",
     "output_type": "stream",
     "text": [
      "The size of dataset :\n",
      " 2028\n"
     ]
    }
   ],
   "source": [
    "print(\"The size of dataset :\\n\", df.size)"
   ]
  },
  {
   "cell_type": "code",
   "execution_count": 9,
   "id": "57c35ade-adb8-4d31-8bcb-ee619a5a671a",
   "metadata": {},
   "outputs": [
    {
     "name": "stdout",
     "output_type": "stream",
     "text": [
      "The shape of dataset :\n",
      " (156, 13)\n"
     ]
    }
   ],
   "source": [
    "print(\"The shape of dataset :\\n\", df.shape)"
   ]
  },
  {
   "cell_type": "code",
   "execution_count": 10,
   "id": "0e24981e-cc21-4696-9bb2-61e2d0e2089f",
   "metadata": {},
   "outputs": [
    {
     "name": "stdout",
     "output_type": "stream",
     "text": [
      "The datatype of dataset :\n",
      " PassengerId      int64\n",
      "Survived         int64\n",
      "Pclass           int64\n",
      "Lname           object\n",
      "Name            object\n",
      "Sex             object\n",
      "Age            float64\n",
      "SibSp            int64\n",
      "Parch            int64\n",
      "Ticket          object\n",
      "Fare           float64\n",
      "Cabin           object\n",
      "Embarked        object\n",
      "dtype: object\n"
     ]
    }
   ],
   "source": [
    "print(\"The datatype of dataset :\\n\", df.dtypes)"
   ]
  },
  {
   "cell_type": "code",
   "execution_count": 11,
   "id": "2c079614-9ce9-472a-b3a0-36ededff2f8f",
   "metadata": {},
   "outputs": [
    {
     "name": "stdout",
     "output_type": "stream",
     "text": [
      "The columns of dataset :\n",
      " Index(['PassengerId', 'Survived', 'Pclass', 'Lname', 'Name', 'Sex', 'Age',\n",
      "       'SibSp', 'Parch', 'Ticket', 'Fare', 'Cabin', 'Embarked'],\n",
      "      dtype='object')\n"
     ]
    }
   ],
   "source": [
    "print(\"The columns of dataset :\\n\", df.columns)"
   ]
  },
  {
   "cell_type": "code",
   "execution_count": 12,
   "id": "86b76ea5-d7dd-4563-a26f-52bf85945ab2",
   "metadata": {},
   "outputs": [
    {
     "name": "stdout",
     "output_type": "stream",
     "text": [
      "The Stastical knowledge of numerical :\n",
      "        PassengerId    Survived      Pclass         Age       SibSp  \\\n",
      "count   156.000000  156.000000  156.000000  126.000000  156.000000   \n",
      "mean     78.500000    0.346154    2.423077   28.141508    0.615385   \n",
      "std      45.177428    0.477275    0.795459   14.613880    1.056235   \n",
      "min       1.000000    0.000000    1.000000    0.830000    0.000000   \n",
      "25%      39.750000    0.000000    2.000000   19.000000    0.000000   \n",
      "50%      78.500000    0.000000    3.000000   26.000000    0.000000   \n",
      "75%     117.250000    1.000000    3.000000   35.000000    1.000000   \n",
      "max     156.000000    1.000000    3.000000   71.000000    5.000000   \n",
      "\n",
      "            Parch        Fare  \n",
      "count  156.000000  156.000000  \n",
      "mean     0.397436   28.109587  \n",
      "std      0.870146   39.401047  \n",
      "min      0.000000    6.750000  \n",
      "25%      0.000000    8.003150  \n",
      "50%      0.000000   14.454200  \n",
      "75%      0.000000   30.371850  \n",
      "max      5.000000  263.000000  \n"
     ]
    }
   ],
   "source": [
    "print(\"The Stastical knowledge of numerical :\\n\", df.describe())"
   ]
  },
  {
   "cell_type": "code",
   "execution_count": 13,
   "id": "b2cea5b8-c8ab-49df-9430-e5194b36f83a",
   "metadata": {},
   "outputs": [
    {
     "data": {
      "text/plain": [
       "PassengerId      0\n",
       "Survived         0\n",
       "Pclass           0\n",
       "Lname            0\n",
       "Name             0\n",
       "Sex              0\n",
       "Age             30\n",
       "SibSp            0\n",
       "Parch            0\n",
       "Ticket           0\n",
       "Fare             0\n",
       "Cabin          125\n",
       "Embarked         1\n",
       "dtype: int64"
      ]
     },
     "execution_count": 13,
     "metadata": {},
     "output_type": "execute_result"
    }
   ],
   "source": [
    "df.isnull().sum()"
   ]
  },
  {
   "cell_type": "code",
   "execution_count": 14,
   "id": "26e63256-edd3-4623-83ff-2f2708118ed5",
   "metadata": {},
   "outputs": [],
   "source": [
    "df['Age'].fillna(df['Age'].median(),inplace=True)"
   ]
  },
  {
   "cell_type": "code",
   "execution_count": 15,
   "id": "9034a216-7c7e-4ac1-99c0-2343984997dd",
   "metadata": {},
   "outputs": [
    {
     "data": {
      "text/plain": [
       "<bound method DataFrame.sum of      PassengerId  Survived  Pclass  Lname   Name    Sex    Age  SibSp  Parch  \\\n",
       "0          False     False   False  False  False  False  False  False  False   \n",
       "1          False     False   False  False  False  False  False  False  False   \n",
       "2          False     False   False  False  False  False  False  False  False   \n",
       "3          False     False   False  False  False  False  False  False  False   \n",
       "4          False     False   False  False  False  False  False  False  False   \n",
       "..           ...       ...     ...    ...    ...    ...    ...    ...    ...   \n",
       "151        False     False   False  False  False  False  False  False  False   \n",
       "152        False     False   False  False  False  False  False  False  False   \n",
       "153        False     False   False  False  False  False  False  False  False   \n",
       "154        False     False   False  False  False  False  False  False  False   \n",
       "155        False     False   False  False  False  False  False  False  False   \n",
       "\n",
       "     Ticket   Fare  Cabin  Embarked  \n",
       "0     False  False   True     False  \n",
       "1     False  False  False     False  \n",
       "2     False  False   True     False  \n",
       "3     False  False  False     False  \n",
       "4     False  False   True     False  \n",
       "..      ...    ...    ...       ...  \n",
       "151   False  False  False     False  \n",
       "152   False  False   True     False  \n",
       "153   False  False   True     False  \n",
       "154   False  False   True     False  \n",
       "155   False  False   True     False  \n",
       "\n",
       "[156 rows x 13 columns]>"
      ]
     },
     "execution_count": 15,
     "metadata": {},
     "output_type": "execute_result"
    }
   ],
   "source": [
    "df.isnull().sum"
   ]
  },
  {
   "cell_type": "code",
   "execution_count": 16,
   "id": "e6d4c5cc-ef45-4923-9f25-d44217135a27",
   "metadata": {},
   "outputs": [
    {
     "data": {
      "image/png": "[encoded data removed]",
      "text/plain": [
       "<Figure size 1000x600 with 1 Axes>"
      ]
     },
     "metadata": {},
     "output_type": "display_data"
    }
   ],
   "source": [
    "plt.figure(figsize=(10,6))\n",
    "sns.boxplot(data=df,x='Sex',y='Age',hue='Survived')\n",
    "plt.title(\"age Distribution with respect to sex,survived\")\n",
    "plt.show()"
   ]
  },
  {
   "cell_type": "code",
   "execution_count": null,
   "id": "1ed42875-1100-400d-9d73-4ae5d5b72c45",
   "metadata": {},
   "outputs": [],
   "source": []
  }
 ],
 "metadata": {
  "kernelspec": {
   "display_name": "Python 3 (ipykernel)",
   "language": "python",
   "name": "python3"
  },
  "language_info": {
   "codemirror_mode": {
    "name": "ipython",
    "version": 3
   },
   "file_extension": ".py",
   "mimetype": "text/x-python",
   "name": "python",
   "nbconvert_exporter": "python",
   "pygments_lexer": "ipython3",
   "version": "3.12.1"
  }
 },
 "nbformat": 4,
 "nbformat_minor": 5
}
